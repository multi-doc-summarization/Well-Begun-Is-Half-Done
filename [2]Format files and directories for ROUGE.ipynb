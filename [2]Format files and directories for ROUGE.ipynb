{
 "cells": [
  {
   "cell_type": "code",
   "execution_count": 1,
   "metadata": {},
   "outputs": [],
   "source": [
    "import os"
   ]
  },
  {
   "cell_type": "code",
   "execution_count": 6,
   "metadata": {},
   "outputs": [],
   "source": [
    "BASE_DIR = r'C:\\Thesis\\Multi-News data\\ROUGE\\lexrank_1000\\\\'"
   ]
  },
  {
   "cell_type": "code",
   "execution_count": 7,
   "metadata": {},
   "outputs": [],
   "source": [
    "system_dir = BASE_DIR + 'system_summaries\\\\'\n",
    "model_dir = BASE_DIR + 'model_summaries\\\\'"
   ]
  },
  {
   "cell_type": "code",
   "execution_count": 8,
   "metadata": {},
   "outputs": [],
   "source": [
    "file_path = os.path.join(BASE_DIR, 'test.tgt.tokenized')\n",
    "lst = []\n",
    "with open(file_path, encoding='utf-8') as doc:\n",
    "    lst = [line[2:] for line in doc]\n",
    "    \n",
    "for i, line in enumerate(lst):\n",
    "    file = model_dir + 'text.A.' + str(i+1) + '.txt'\n",
    "    with open(file, encoding='utf-8', mode='w') as doc:\n",
    "        doc.write(line)\n",
    "        "
   ]
  },
  {
   "cell_type": "code",
   "execution_count": 9,
   "metadata": {},
   "outputs": [],
   "source": [
    "file_path = os.path.join(BASE_DIR, 'lexrank_result_1000.txt')\n",
    "lst_2 = []\n",
    "with open(file_path, encoding='utf-8') as doc:\n",
    "    lst_2 = [line[2:] for line in doc]\n",
    "    \n",
    "for i, line in enumerate(lst_2):\n",
    "    file = system_dir + 'text.' + str(i+1) + '.txt'\n",
    "    with open(file, encoding='utf-8', mode='w') as doc:\n",
    "        doc.write(line)\n",
    "        "
   ]
  },
  {
   "cell_type": "code",
   "execution_count": null,
   "metadata": {},
   "outputs": [],
   "source": []
  }
 ],
 "metadata": {
  "kernelspec": {
   "display_name": "Python 3",
   "language": "python",
   "name": "python3"
  },
  "language_info": {
   "codemirror_mode": {
    "name": "ipython",
    "version": 3
   },
   "file_extension": ".py",
   "mimetype": "text/x-python",
   "name": "python",
   "nbconvert_exporter": "python",
   "pygments_lexer": "ipython3",
   "version": "3.7.3"
  }
 },
 "nbformat": 4,
 "nbformat_minor": 2
}
